{
 "cells": [
  {
   "cell_type": "markdown",
   "metadata": {},
   "source": [
    "# Bus\n",
    "\n",
    "This bus has a passenger entry and exit control system to monitor the number of occupants it carries and thus detect when there is too high a capacity.\n",
    "\n",
    "At each stop the entry and exit of passengers is represented by a tuple consisting of two integer numbers.\n",
    "```\n",
    "bus_stop = (in, out)\n",
    "```\n",
    "The succession of stops is represented by a list of these tuples.\n",
    "```\n",
    "stops = [(in1, out1), (in2, out2), (in3, out3), (in4, out4)]\n",
    "```\n",
    "\n",
    "## Goals:\n",
    "* lists, tuples\n",
    "* while/for loops\n",
    "* minimum, maximum, length\n",
    "* average, standard deviation\n",
    "\n",
    "## Tasks\n",
    "1. Calculate the number of stops.\n",
    "2. Assign to a variable a list whose elements are the number of passengers at each stop (in-out),\n",
    "3. Find the maximum occupation of the bus.\n",
    "4. Calculate the average occupation. And the standard deviation.\n"
   ]
  },
  {
   "cell_type": "code",
   "execution_count": 2,
   "metadata": {},
   "outputs": [],
   "source": [
    "# variables\n"
   ]
  },
  {
   "cell_type": "code",
   "execution_count": 4,
   "metadata": {},
   "outputs": [],
   "source": [
    "# 1. Calculate the number of stops.\n"
   ]
  },
  {
   "cell_type": "code",
   "execution_count": 3,
   "metadata": {},
   "outputs": [],
   "source": [
    "# 2. Assign a variable a list whose elements are the number of passengers in each stop: \n",
    "# Each item depends on the previous item in the list + in - out.\n",
    "\n"
   ]
  },
  {
   "cell_type": "code",
   "execution_count": 4,
   "metadata": {},
   "outputs": [],
   "source": [
    "# 3. Find the maximum occupation of the bus.\n",
    "\n"
   ]
  },
  {
   "cell_type": "code",
   "execution_count": 5,
   "metadata": {},
   "outputs": [],
   "source": [
    "# 4. Calculate the average occupation. And the standard deviation.\n",
    "\n"
   ]
  },
  {
   "cell_type": "code",
   "execution_count": 1,
   "metadata": {},
   "outputs": [
    {
     "name": "stdout",
     "output_type": "stream",
     "text": [
      "Total stops: 4\n",
      "[9, 11, 8, 10]\n",
      "Maximum occupation is 11\n",
      "Average occupation is 9.5\n",
      "Standard deviation is 1.2909944487358056\n"
     ]
    }
   ],
   "source": [
    "# variables\n",
    "\n",
    "start_passengers = 10\n",
    "entry = [2, 4, 1, 5]\n",
    "exit = [3, 2, 4, 3]\n",
    "\n",
    "\n",
    "# 1. Calculate the number of stops.\n",
    "\n",
    "stops = [(entry[0], exit[0]), (entry[1], exit[1]), (entry[2], exit[2]), (entry[3], exit[3])]\n",
    "print(\"Total stops:\",len(stops))\n",
    "\n",
    "\n",
    "# 2. Assign a variable a list whose elements are the number of passengers in each stop: \n",
    "# Each item depends on the previous item in the list + in - out.\n",
    "\n",
    "\n",
    "passengers_list = []\n",
    "\n",
    "for i in range(len(entry)):\n",
    "    if i == 0:\n",
    "        passengers = start_passengers + entry[i] - exit[i]\n",
    "    if i != 0:\n",
    "        passengers = passengers + entry[i] - exit[i]\n",
    "    #print('Stop',i+1,'Passengers:',passengers)\n",
    "    passengers_list.append(passengers)\n",
    "\n",
    "print(passengers_list)\n",
    "\n",
    "\n",
    "# 3. Find the maximum occupation of the bus.\n",
    "\n",
    "max_occupation = max(passengers_list)\n",
    "print('Maximum occupation is',max_occupation)\n",
    "\n",
    "\n",
    "# 4. Calculate the average occupation. And the standard deviation.\n",
    "\n",
    "average_occupation = sum(passengers_list)/len(passengers_list)\n",
    "print('Average occupation is',average_occupation)\n",
    "\n",
    "import statistics\n",
    "standard_deviation = statistics.stdev(passengers_list)\n",
    "print('Standard deviation is',standard_deviation)\n",
    "\n"
   ]
  },
  {
   "cell_type": "code",
   "execution_count": null,
   "metadata": {},
   "outputs": [],
   "source": []
  },
  {
   "cell_type": "code",
   "execution_count": null,
   "metadata": {},
   "outputs": [],
   "source": []
  }
 ],
 "metadata": {
  "kernelspec": {
   "display_name": "Python 3",
   "language": "python",
   "name": "python3"
  },
  "language_info": {
   "codemirror_mode": {
    "name": "ipython",
    "version": 3
   },
   "file_extension": ".py",
   "mimetype": "text/x-python",
   "name": "python",
   "nbconvert_exporter": "python",
   "pygments_lexer": "ipython3",
   "version": "3.7.3"
  }
 },
 "nbformat": 4,
 "nbformat_minor": 2
}
